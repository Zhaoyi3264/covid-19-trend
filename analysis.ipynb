{
 "cells": [
  {
   "cell_type": "code",
   "execution_count": null,
   "metadata": {},
   "outputs": [],
   "source": [
    "from urllib.request import Request, urlopen\n",
    "import json\n",
    "import os\n",
    "\n",
    "import numpy as np\n",
    "import pandas as pd\n",
    "import matplotlib.pyplot as plt\n",
    "import matplotlib as mpl\n",
    "\n",
    "from bs4 import BeautifulSoup"
   ]
  },
  {
   "cell_type": "code",
   "execution_count": null,
   "metadata": {},
   "outputs": [],
   "source": [
    "# fetch data\n",
    "headers = {'user-agent': 'Mozilla/5.0 (X11; Linux x86_64) AppleWebKit/537.36 (KHTML, like Gecko) Chrome/80.0.3987.149 Safari/537.36'}\n",
    "req = Request('https://thevirustracker.com/timeline/map-data.json',\n",
    "              headers=headers)\n",
    "with urlopen(req) as res:\n",
    "    data = json.load(res)"
   ]
  },
  {
   "cell_type": "code",
   "execution_count": null,
   "metadata": {},
   "outputs": [],
   "source": [
    "# obtain country mapping\n",
    "req = Request('https://thevirustracker.com/api',\n",
    "              headers=headers)\n",
    "with urlopen(req) as res:\n",
    "     html = res.read().decode('utf-8')\n",
    "soup = BeautifulSoup(html, 'html.parser')\n",
    "result = soup.find('tbody')\n",
    "country_map = {child.a.string[:2]: child.td.string for child in result.find_all('tr')}\n",
    "country_map['Others'] = 'Others'"
   ]
  },
  {
   "cell_type": "code",
   "execution_count": null,
   "metadata": {},
   "outputs": [],
   "source": [
    "country_map['BH']"
   ]
  },
  {
   "cell_type": "code",
   "execution_count": null,
   "metadata": {},
   "outputs": [],
   "source": [
    "def intize(i):\n",
    "    try:\n",
    "        return int(i)\n",
    "    except:\n",
    "        return 0"
   ]
  },
  {
   "cell_type": "code",
   "execution_count": null,
   "metadata": {},
   "outputs": [],
   "source": [
    "# clean data\n",
    "df = pd.DataFrame(data['data'])\n",
    "df['date'] = pd.to_datetime(df['date'], format='%m/%d/%y')\n",
    "df[['cases', 'deaths', 'recovered']] = df[['cases', 'deaths', 'recovered']].applymap(intize)\n",
    "df.sort_values(['countrycode', 'date'], inplace=True)\n",
    "df.head()"
   ]
  },
  {
   "cell_type": "code",
   "execution_count": null,
   "metadata": {},
   "outputs": [],
   "source": [
    "df"
   ]
  },
  {
   "cell_type": "code",
   "execution_count": null,
   "metadata": {},
   "outputs": [],
   "source": [
    "# group by country\n",
    "df_country = df.set_index(['countrycode', 'date'])\n",
    "df_country"
   ]
  },
  {
   "cell_type": "code",
   "execution_count": null,
   "metadata": {},
   "outputs": [],
   "source": [
    "# sort by each column\n",
    "today = df.groupby('countrycode').last()\n",
    "today_cases = today.sort_values('cases', ascending=False)\n",
    "today_deaths = today.sort_values('deaths', ascending=False)\n",
    "today_recovered = today.sort_values('recovered', ascending=False)"
   ]
  },
  {
   "cell_type": "code",
   "execution_count": null,
   "metadata": {},
   "outputs": [],
   "source": [
    "# arugments for ploting\n",
    "cases = [today_cases['cases'], 'infections', 'Oranges']\n",
    "deaths = [today_deaths['deaths'], 'deaths', 'Reds']\n",
    "recoverd = [today_recovered['recovered'], 'recovered', 'Greens']"
   ]
  },
  {
   "cell_type": "code",
   "execution_count": null,
   "metadata": {},
   "outputs": [],
   "source": [
    "textprops = dict(fontsize='large', fontfamily='sans serif')\n",
    "    \n",
    "def top_countries_proportion(data, category, cmap, n=8):\n",
    "    other = data[n:].sum()\n",
    "    today_top = data[:n].append(pd.Series(data=other, index=['Others']))\n",
    "    \n",
    "    fig, ax = plt.subplots(figsize=(16, 6.6))\n",
    "    explode = np.zeros(n+1)\n",
    "    explode[:] = 0.03\n",
    "    norm = mpl.colors.Normalize(vmin=today_top.min()/1.25, vmax=today_top.max()*1.25)\n",
    "    colors = mpl.cm.get_cmap(cmap)(norm(today_top))\n",
    "    patches, texts, autotexts = ax.pie(today_top,\n",
    "                                       labels=list(map(lambda index: country_map[index], today_top.index)),\n",
    "                                       pctdistance=0.7, explode=explode,\n",
    "                                       autopct='%.1f%%', textprops=textprops,\n",
    "                                       colors=colors)\n",
    "    for t, p in zip(autotexts, patches):\n",
    "        t.set_fontsize(10)\n",
    "        if np.array(p.get_facecolor()).prod() < 0.1:\n",
    "            t.set_color('w')\n",
    "    ax.set_title('Global {} proportions'.format(category))\n",
    "    plt.show()"
   ]
  },
  {
   "cell_type": "code",
   "execution_count": null,
   "metadata": {},
   "outputs": [],
   "source": [
    "top_countries_proportion(*cases)"
   ]
  },
  {
   "cell_type": "code",
   "execution_count": null,
   "metadata": {},
   "outputs": [],
   "source": [
    "top_countries_proportion(*deaths)"
   ]
  },
  {
   "cell_type": "code",
   "execution_count": null,
   "metadata": {},
   "outputs": [],
   "source": [
    "top_countries_proportion(*recoverd)"
   ]
  },
  {
   "cell_type": "code",
   "execution_count": null,
   "metadata": {},
   "outputs": [],
   "source": [
    "font_dict = dict(fontsize='large', fontfamily='sans serif')\n",
    "\n",
    "def label(rects, ax):\n",
    "    for rect in rects:\n",
    "        width = rect.get_width()\n",
    "        height = rect.get_height()\n",
    "        ax.annotate('{}'.format(width),\n",
    "                    xy=(width, rect.get_y() + height / 2), xytext=(20, 0),\n",
    "                    textcoords=\"offset points\",ha='center', va='center')\n",
    "\n",
    "def top_countries(data, category, cmap, n=20):\n",
    "    data_top = data[:n]\n",
    "\n",
    "    fig, ax = plt.subplots(figsize=(15, 10))\n",
    "    color = mpl.cm.get_cmap(cmap)(mpl.colors.LogNorm(vmin=data_top.min()/1.5, vmax=data_top.max()*1.5)(data_top))\n",
    "    rects = ax.barh(range(data_top.shape[0]), data_top, color=color)\n",
    "    label(rects, ax)\n",
    "\n",
    "    ax.set_xlabel('cases ($\\\\times10^3$)', font_dict)\n",
    "    ax.set_xticklabels(ax.get_xticks() / 1e3, font_dict)\n",
    "    ax.set_yticks(range(n))\n",
    "    ax.set_yticklabels(map(lambda index: country_map[index], data_top.index), font_dict)\n",
    "    ax.invert_yaxis()\n",
    "    ax.set_title('Countries with the most {}'.format(category), font_dict)\n",
    "    ax.grid(True, axis='x')\n",
    "    ax.spines['right'].set_visible(False)\n",
    "    ax.spines['top'].set_visible(False)\n",
    "\n",
    "    plt.show()"
   ]
  },
  {
   "cell_type": "code",
   "execution_count": null,
   "metadata": {},
   "outputs": [],
   "source": [
    "top_countries(*cases)"
   ]
  },
  {
   "cell_type": "code",
   "execution_count": null,
   "metadata": {},
   "outputs": [],
   "source": [
    "top_countries(*deaths)"
   ]
  },
  {
   "cell_type": "code",
   "execution_count": null,
   "metadata": {},
   "outputs": [],
   "source": [
    "top_countries(*recoverd)"
   ]
  },
  {
   "cell_type": "code",
   "execution_count": null,
   "metadata": {
    "scrolled": false
   },
   "outputs": [],
   "source": [
    "colors = ['tab:orange', 'tab:red', 'tab:green']\n",
    "\n",
    "def draw_timeline(countrycode):\n",
    "    fig, ax = plt.subplots(figsize=(9, 6))\n",
    "    data = df_country.loc[countrycode]\n",
    "    c, d, r = np.squeeze(data.last('1D').values)\n",
    "    for (label, content), color, i in zip(data.iteritems(), colors, [0, 0, 5 if (d-r)/(r++1e-10) <= 0.15 else -5]):\n",
    "        ax.plot(content, label=label, color=color)\n",
    "        ax.annotate(content[-1], xy=(ax.get_xticks()[-1], content[-1]),\n",
    "                    xycoords=ax.transData, xytext=(0, i), textcoords='offset points',\n",
    "                    va='center', ha='left', fontsize=8)\n",
    "    ax.set_title('{} ({})'.format(country_map[countrycode], countrycode))\n",
    "    ax.get_xaxis().set_major_formatter(mpl.dates.DateFormatter('%m-%d'))\n",
    "    ax.grid()\n",
    "    ax.spines['right'].set_visible(False)\n",
    "    ax.spines['top'].set_visible(False)\n",
    "    ax.legend()\n",
    "    plt.savefig(os.path.join('./country_timeline', '{}.png'.format(country_map[countrycode])))"
   ]
  },
  {
   "cell_type": "code",
   "execution_count": null,
   "metadata": {
    "scrolled": true
   },
   "outputs": [],
   "source": [
    "for countrycode in today.index:\n",
    "    draw_timeline(countrycode)\n",
    "    plt.close()"
   ]
  },
  {
   "cell_type": "code",
   "execution_count": null,
   "metadata": {},
   "outputs": [],
   "source": []
  }
 ],
 "metadata": {
  "kernelspec": {
   "display_name": "Python 3",
   "language": "python",
   "name": "python3"
  },
  "language_info": {
   "codemirror_mode": {
    "name": "ipython",
    "version": 3
   },
   "file_extension": ".py",
   "mimetype": "text/x-python",
   "name": "python",
   "nbconvert_exporter": "python",
   "pygments_lexer": "ipython3",
   "version": "3.7.4"
  }
 },
 "nbformat": 4,
 "nbformat_minor": 2
}
