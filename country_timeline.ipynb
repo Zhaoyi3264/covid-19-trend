{
 "cells": [
  {
   "cell_type": "code",
   "execution_count": 1,
   "metadata": {},
   "outputs": [],
   "source": [
    "from urllib.request import Request, urlopen\n",
    "\n",
    "import json\n",
    "\n",
    "import numpy as np\n",
    "import pandas as pd\n",
    "import matplotlib.pyplot as plt\n",
    "import matplotlib as mpl\n",
    "\n",
    "import datasets"
   ]
  },
  {
   "cell_type": "code",
   "execution_count": 2,
   "metadata": {},
   "outputs": [],
   "source": [
    "# fetch data\n",
    "headers = {'user-agent': 'Mozilla/5.0 (X11; Linux x86_64) AppleWebKit/537.36 (KHTML, like Gecko) Chrome/80.0.3987.149 Safari/537.36'}\n",
    "req = Request('https://thevirustracker.com/timeline/map-data.json', headers=headers)\n",
    "with urlopen(req) as res:\n",
    "    data = json.load(res)"
   ]
  },
  {
   "cell_type": "code",
   "execution_count": 3,
   "metadata": {},
   "outputs": [],
   "source": [
    "# obtain country mapping\n",
    "# import bs4\n",
    "# from bs4 import BeautifulSoup\n",
    "\n",
    "# req = Request('https://thevirustracker.com/api',\n",
    "#               headers=headers)\n",
    "# with urlopen(req) as res:\n",
    "#      html = res.read().decode('utf-8')\n",
    "# soup = BeautifulSoup(html, 'html.parser')\n",
    "# result = soup.find('tbody')\n",
    "# country_map = {child.a.string[:2]: child.td.contents[-1].strip() for child in result.find_all('tr')}\n",
    "\n",
    "m = pd.read_csv('data/virus_tracker_mapping.txt', sep='\\t',\n",
    "                names=['country', 'countrycode', '_'], usecols=['country', 'countrycode'])\n",
    "m['country'] = m['country'].str[3:]\n",
    "m['countrycode'] = m['countrycode'].str[:2]\n",
    "m.rename(columns=str.title, inplace=True)\n",
    "m.set_index('Countrycode', inplace=True)"
   ]
  },
  {
   "cell_type": "code",
   "execution_count": 4,
   "metadata": {},
   "outputs": [],
   "source": [
    "df = pd.DataFrame(data['data'])\n",
    "countrycodes = set(df['countrycode'])\n",
    "df['date'] = pd.to_datetime(df['date'], format='%m/%d/%y')\n",
    "df.rename(columns=str.title)\n",
    "df.sort_values(['countrycode', 'date'], inplace=True)\n",
    "df.rename(columns=str.title, inplace=True)\n",
    "df.set_index(['Countrycode', 'Date'] , inplace=True)\n",
    "df = df.applymap(int)"
   ]
  },
  {
   "cell_type": "code",
   "execution_count": 5,
   "metadata": {
    "scrolled": false
   },
   "outputs": [],
   "source": [
    "colors = ['tab:orange', 'tab:red', 'tab:green']\n",
    "\n",
    "def draw_timeline(countrycode):\n",
    "    fig, ax = plt.subplots(figsize=(9, 6))\n",
    "    data = df.loc[countrycode]\n",
    "    c, d, r = np.squeeze(data.last('1D').values)\n",
    "    for (label, content), color, i in zip(data.iteritems(), colors, [0, 0, 5 if (d-r)/(r++1e-10) <= 0.15 else -5]):\n",
    "        ax.plot(content, label=label, color=color)\n",
    "        ax.annotate(content[-1], xy=(ax.get_xticks()[-1], content[-1]),\n",
    "                    xycoords=ax.transData, xytext=(0, i), textcoords='offset points',\n",
    "                    va='center', ha='left', fontsize=8)\n",
    "    ax.set_title('{}'.format(countrycode))\n",
    "    ax.get_xaxis().set_major_formatter(mpl.dates.DateFormatter('%m-%d'))\n",
    "    ax.grid()\n",
    "    ax.spines['right'].set_visible(False)\n",
    "    ax.spines['top'].set_visible(False)\n",
    "    ax.legend()\n",
    "    plt.savefig('./country_timeline/{}.png'.format(countrycode))"
   ]
  },
  {
   "cell_type": "code",
   "execution_count": 6,
   "metadata": {
    "scrolled": true
   },
   "outputs": [],
   "source": [
    "for countrycode in countrycodes:\n",
    "    draw_timeline(countrycode)\n",
    "    plt.close()"
   ]
  },
  {
   "cell_type": "code",
   "execution_count": 37,
   "metadata": {},
   "outputs": [
    {
     "data": {
      "text/plain": [
       "'China'"
      ]
     },
     "execution_count": 37,
     "metadata": {},
     "output_type": "execute_result"
    }
   ],
   "source": [
    "pd.read_csv('time_series_covid19_confirmed_global.txt').groupby('Country/Region').sum().index[36]"
   ]
  },
  {
   "cell_type": "code",
   "execution_count": 39,
   "metadata": {},
   "outputs": [
    {
     "data": {
      "text/plain": [
       "<matplotlib.axes._subplots.AxesSubplot at 0x7f64ee35c310>"
      ]
     },
     "execution_count": 39,
     "metadata": {},
     "output_type": "execute_result"
    },
    {
     "data": {
      "image/png": "[encoded data removed]",
      "text/plain": [
       "<Figure size 432x288 with 1 Axes>"
      ]
     },
     "metadata": {
      "needs_background": "light"
     },
     "output_type": "display_data"
    }
   ],
   "source": [
    "pd.read_csv('time_series_covid19_confirmed_global.txt').groupby('Country/Region').sum().iloc[36, 2:].plot()"
   ]
  },
  {
   "cell_type": "code",
   "execution_count": null,
   "metadata": {},
   "outputs": [],
   "source": []
  }
 ],
 "metadata": {
  "kernelspec": {
   "display_name": "Python 3",
   "language": "python",
   "name": "python3"
  },
  "language_info": {
   "codemirror_mode": {
    "name": "ipython",
    "version": 3
   },
   "file_extension": ".py",
   "mimetype": "text/x-python",
   "name": "python",
   "nbconvert_exporter": "python",
   "pygments_lexer": "ipython3",
   "version": "3.7.4"
  }
 },
 "nbformat": 4,
 "nbformat_minor": 2
}
