{
 "cells": [
  {
   "cell_type": "code",
   "execution_count": 1,
   "metadata": {},
   "outputs": [],
   "source": [
    "import pandas as pd\n",
    "import matplotlib.pyplot as plt\n",
    "import matplotlib as mpl\n",
    "\n",
    "import datasets"
   ]
  },
  {
   "cell_type": "code",
   "execution_count": 2,
   "metadata": {},
   "outputs": [],
   "source": [
    "# virus tracker data (broken)\n",
    "# m = pd.read_csv('data/virus_tracker_mapping.txt', sep='\\t',\n",
    "#                 names=['country', 'countrycode', '_'], usecols=['country', 'countrycode'])\n",
    "# m['country'] = m['country'].str[3:]\n",
    "# m['countrycode'] = m['countrycode'].str[:2]\n",
    "# m.rename(columns=str.title, inplace=True)\n",
    "# m.set_index('Countrycode', inplace=True)\n",
    "\n",
    "# df = pd.DataFrame(data['data'])\n",
    "# countrycodes = set(df['countrycode'])\n",
    "# df['date'] = pd.to_datetime(df['date'], format='%m/%d/%y')\n",
    "# df.rename(columns=str.title)\n",
    "# df.sort_values(['countrycode', 'date'], inplace=True)\n",
    "# df.rename(columns=str.title, inplace=True)\n",
    "# df.set_index(['Countrycode', 'Date'] , inplace=True)\n",
    "# df = df.applymap(int)"
   ]
  },
  {
   "cell_type": "code",
   "execution_count": 4,
   "metadata": {},
   "outputs": [],
   "source": [
    "df, countries = datasets.jhu()"
   ]
  },
  {
   "cell_type": "code",
   "execution_count": 5,
   "metadata": {},
   "outputs": [],
   "source": [
    "colors = ['tab:orange', 'tab:red', 'tab:green']\n",
    "\n",
    "def draw_timeline(data, country):\n",
    "    fig, ax = plt.subplots(figsize=(9, 6))\n",
    "    c, d, r = data.last('1D').iloc[0]\n",
    "    for (label, content), color, i in zip(data.iteritems(), colors, [0, 0, 5 if (d-r)/(r+1e-10) <= 0.15 else -5]):\n",
    "        ax.plot(content, label=label, color=color)\n",
    "        ax.annotate(content[-1], xy=(ax.get_xticks()[-1], content[-1]),\n",
    "                    xycoords=ax.transData, xytext=(20, i), textcoords='offset points',\n",
    "                    va='center', ha='left', fontsize=8)\n",
    "    ax.set_title(f'{country}')\n",
    "    ax.get_xaxis().set_major_formatter(mpl.dates.DateFormatter('%m-%d'))\n",
    "    ax.grid()\n",
    "    ax.spines['right'].set_visible(False)\n",
    "    ax.spines['top'].set_visible(False)\n",
    "    ax.legend()\n",
    "    plt.savefig(f'./country_timeline/{country.replace(\" \", \"-\")}.png')"
   ]
  },
  {
   "cell_type": "code",
   "execution_count": 10,
   "metadata": {
    "scrolled": false
   },
   "outputs": [
    {
     "data": {
      "image/png": "[encoded data removed]",
      "text/plain": [
       "<Figure size 648x432 with 1 Axes>"
      ]
     },
     "metadata": {
      "needs_background": "light"
     },
     "output_type": "display_data"
    }
   ],
   "source": [
    "c = 'US'\n",
    "draw_timeline(df.loc[c], c)"
   ]
  },
  {
   "cell_type": "code",
   "execution_count": 7,
   "metadata": {
    "scrolled": true
   },
   "outputs": [],
   "source": [
    "for country in countries:\n",
    "    draw_timeline(df.loc[country], country)\n",
    "    plt.close()"
   ]
  },
  {
   "cell_type": "code",
   "execution_count": 8,
   "metadata": {},
   "outputs": [],
   "source": [
    "# generate text from markdown\n",
    "# import os\n",
    "# _ = 'A'\n",
    "# print(f'### {_}')\n",
    "# for file in [file for file in sorted(os.listdir('country_timeline')) if file.endswith('png')][1:]:\n",
    "#     if file[0] > _:\n",
    "#         _ = file[0]\n",
    "#         print(f'### {_}')\n",
    "#     print(f'![](country_timeline/{file})')"
   ]
  },
  {
   "cell_type": "code",
   "execution_count": null,
   "metadata": {},
   "outputs": [],
   "source": []
  }
 ],
 "metadata": {
  "kernelspec": {
   "display_name": "Python 3",
   "language": "python",
   "name": "python3"
  },
  "language_info": {
   "codemirror_mode": {
    "name": "ipython",
    "version": 3
   },
   "file_extension": ".py",
   "mimetype": "text/x-python",
   "name": "python",
   "nbconvert_exporter": "python",
   "pygments_lexer": "ipython3",
   "version": "3.7.4"
  }
 },
 "nbformat": 4,
 "nbformat_minor": 2
}
