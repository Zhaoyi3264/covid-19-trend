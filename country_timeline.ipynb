{
 "cells": [
  {
   "cell_type": "code",
   "execution_count": 1,
   "metadata": {},
   "outputs": [],
   "source": [
    "import pandas as pd\n",
    "import matplotlib.pyplot as plt\n",
    "import matplotlib as mpl\n",
    "\n",
    "import datasets"
   ]
  },
  {
   "cell_type": "code",
   "execution_count": 2,
   "metadata": {},
   "outputs": [],
   "source": [
    "# virus tracker data (broken)\n",
    "# m = pd.read_csv('data/virus_tracker_mapping.txt', sep='\\t',\n",
    "#                 names=['country', 'countrycode', '_'], usecols=['country', 'countrycode'])\n",
    "# m['country'] = m['country'].str[3:]\n",
    "# m['countrycode'] = m['countrycode'].str[:2]\n",
    "# m.rename(columns=str.title, inplace=True)\n",
    "# m.set_index('Countrycode', inplace=True)\n",
    "\n",
    "# df = pd.DataFrame(data['data'])\n",
    "# countrycodes = set(df['countrycode'])\n",
    "# df['date'] = pd.to_datetime(df['date'], format='%m/%d/%y')\n",
    "# df.rename(columns=str.title)\n",
    "# df.sort_values(['countrycode', 'date'], inplace=True)\n",
    "# df.rename(columns=str.title, inplace=True)\n",
    "# df.set_index(['Countrycode', 'Date'] , inplace=True)\n",
    "# df = df.applymap(int)"
   ]
  },
  {
   "cell_type": "code",
   "execution_count": 3,
   "metadata": {},
   "outputs": [],
   "source": [
    "while True:\n",
    "    try:\n",
    "        df, countries = datasets.jhu()\n",
    "        break\n",
    "    except:\n",
    "        pass"
   ]
  },
  {
   "cell_type": "code",
   "execution_count": 4,
   "metadata": {},
   "outputs": [],
   "source": [
    "colors = ['tab:orange', 'tab:red', 'tab:green']\n",
    "\n",
    "def draw_timeline(data, country):\n",
    "    fig, ax = plt.subplots(figsize=(9, 6))\n",
    "    c, d, r = data.last('1D').iloc[0]\n",
    "    for (label, content), color, i in zip(data.iteritems(), colors, [0, 0, 5 if (d-r)/(r+1e-10) <= 0.15 else -5]):\n",
    "        ax.plot(content, label=label, color=color)\n",
    "        ax.annotate(content[-1], xy=(ax.get_xticks()[-1], content[-1]),\n",
    "                    xycoords=ax.transData, xytext=(10, i), textcoords='offset points',\n",
    "                    va='center', ha='left', fontsize=8)\n",
    "    ax.set_title(f'{country}')\n",
    "    ax.get_xaxis().set_major_formatter(mpl.dates.DateFormatter('%m-%d'))\n",
    "    ax.grid()\n",
    "    ax.spines['right'].set_visible(False)\n",
    "    ax.spines['top'].set_visible(False)\n",
    "    ax.legend()\n",
    "    plt.savefig(f'./country_timeline/{country.replace(\" \", \"-\")}.png')"
   ]
  },
  {
   "cell_type": "code",
   "execution_count": 5,
   "metadata": {
    "scrolled": false
   },
   "outputs": [
    {
     "data": {
      "image/png": "[encoded data removed]",
      "text/plain": [
       "<Figure size 648x432 with 1 Axes>"
      ]
     },
     "metadata": {
      "needs_background": "light"
     },
     "output_type": "display_data"
    }
   ],
   "source": [
    "c = 'US'\n",
    "draw_timeline(df.loc[c], c)"
   ]
  },
  {
   "cell_type": "code",
   "execution_count": null,
   "metadata": {
    "scrolled": true
   },
   "outputs": [],
   "source": [
    "for country in countries:\n",
    "    draw_timeline(df.loc[country], country)\n",
    "    plt.close()"
   ]
  },
  {
   "cell_type": "code",
   "execution_count": null,
   "metadata": {},
   "outputs": [],
   "source": [
    "# generate text from markdown\n",
    "# import os\n",
    "# _ = 'A'\n",
    "# print(f'### {_}')\n",
    "# for file in [file for file in sorted(os.listdir('country_timeline')) if file.endswith('png')][1:]:\n",
    "#     if file[0] > _:\n",
    "#         _ = file[0]\n",
    "#         print(f'### {_}')\n",
    "#     print(f'![](country_timeline/{file})')"
   ]
  },
  {
   "cell_type": "code",
   "execution_count": null,
   "metadata": {
    "scrolled": true
   },
   "outputs": [],
   "source": [
    "df.rename(index=lambda country: 'UK' if country == 'United Kingdom' else country, inplace=True)\n",
    "today = df.groupby('Country').last()\n",
    "today.head()"
   ]
  },
  {
   "cell_type": "code",
   "execution_count": null,
   "metadata": {},
   "outputs": [],
   "source": [
    "font_dict = dict(fontsize=16)\n",
    "\n",
    "def breakout_timeline(ax, country, category, threshold, window_size):\n",
    "    df_country = df.loc[country][category]\n",
    "    daily_new = (df_country - df_country.shift(1, fill_value=0))\n",
    "    daily_new.index = range(daily_new.shape[0])\n",
    "    for i, value in daily_new.iteritems():\n",
    "        if value >= threshold:\n",
    "            break\n",
    "    daily_new = daily_new[i:].reset_index()[category].rolling(window_size, min_periods=1).mean()\n",
    "    ax.plot(daily_new, label=country)\n",
    "    ax.text(daily_new.shape[0], daily_new.iloc[-1], country, font_dict)"
   ]
  },
  {
   "cell_type": "code",
   "execution_count": null,
   "metadata": {},
   "outputs": [],
   "source": [
    "def breakout_timelines(category, threshold=10, window_size=7):\n",
    "    fig, ax = plt.subplots(figsize=(18, 9))\n",
    "    for country in today.sort_values(category, ascending=False).index[:7]:\n",
    "        breakout_timeline(ax, country, category, threshold=threshold, window_size=window_size)\n",
    "\n",
    "    ax.set_ylabel(f'daily new {category.lower()}', fontsize=12)\n",
    "    ax.set_xlabel(f'number of days since {threshold} {category.lower()} recorded', fontsize=12)\n",
    "    ax.grid()\n",
    "    ax.set_xbound(lower=0)\n",
    "    ax.set_ybound(lower=0)\n",
    "    ax.spines['right'].set_visible(False)\n",
    "    ax.spines['top'].set_visible(False)\n",
    "    ax.set_title(f'Growth of {category.lower()}')\n",
    "#     ax.legend()\n",
    "    plt.savefig(f'global/{category.lower()}_breakout_timeline.png')\n",
    "    plt.show()"
   ]
  },
  {
   "cell_type": "code",
   "execution_count": null,
   "metadata": {},
   "outputs": [],
   "source": [
    "breakout_timelines('Cases', 10, 10)\n",
    "breakout_timelines('Deaths', 10, 10)\n",
    "breakout_timelines('Recovered', 5, 10)"
   ]
  },
  {
   "cell_type": "code",
   "execution_count": null,
   "metadata": {},
   "outputs": [],
   "source": []
  }
 ],
 "metadata": {
  "kernelspec": {
   "display_name": "Python 3",
   "language": "python",
   "name": "python3"
  },
  "language_info": {
   "codemirror_mode": {
    "name": "ipython",
    "version": 3
   },
   "file_extension": ".py",
   "mimetype": "text/x-python",
   "name": "python",
   "nbconvert_exporter": "python",
   "pygments_lexer": "ipython3",
   "version": "3.7.4"
  }
 },
 "nbformat": 4,
 "nbformat_minor": 2
}
